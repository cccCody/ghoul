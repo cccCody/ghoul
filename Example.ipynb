{
 "cells": [
  {
   "cell_type": "markdown",
   "metadata": {},
   "source": [
    "# Basic Functionality\n",
    "\n",
    "ghoul version 0.1.0\n",
    "\n",
    "## Collapsing symbols\n",
    "\n",
    "The purpose of ghoul is to randomly generate internally-consistent python objects.\n",
    "\n",
    "The basic unit in ghoul is the Symbol. A symbol is an object in a \"superposition\": it contains many possible states, until it \"collapses\" to a concrete value."
   ]
  },
  {
   "cell_type": "code",
   "execution_count": 1,
   "metadata": {
    "collapsed": false
   },
   "outputs": [],
   "source": [
    "from ghoul import Symbol "
   ]
  },
  {
   "cell_type": "code",
   "execution_count": 2,
   "metadata": {
    "collapsed": false
   },
   "outputs": [],
   "source": [
    "# create a new symbol\n",
    "number = Symbol([1, 2, 3])"
   ]
  },
  {
   "cell_type": "code",
   "execution_count": 3,
   "metadata": {
    "collapsed": false
   },
   "outputs": [
    {
     "data": {
      "text/plain": [
       "[1, 2, 3]"
      ]
     },
     "execution_count": 3,
     "metadata": {},
     "output_type": "execute_result"
    }
   ],
   "source": [
    "# check the possible values of number\n",
    "number"
   ]
  },
  {
   "cell_type": "code",
   "execution_count": 4,
   "metadata": {
    "collapsed": false
   },
   "outputs": [
    {
     "data": {
      "text/plain": [
       "1"
      ]
     },
     "execution_count": 4,
     "metadata": {},
     "output_type": "execute_result"
    }
   ],
   "source": [
    "# force number to adopt a concrete value\n",
    "number.Observe()"
   ]
  },
  {
   "cell_type": "code",
   "execution_count": 5,
   "metadata": {
    "collapsed": false
   },
   "outputs": [
    {
     "data": {
      "text/plain": [
       "1"
      ]
     },
     "execution_count": 5,
     "metadata": {},
     "output_type": "execute_result"
    }
   ],
   "source": [
    "# after this, number no long contains other possibilities\n",
    "number"
   ]
  },
  {
   "cell_type": "markdown",
   "metadata": {},
   "source": [
    "Upon being observed, `number` collapsed to a concrete value of 1, but it could have taken any of its potential values."
   ]
  },
  {
   "cell_type": "markdown",
   "metadata": {},
   "source": [
    "## Symbolic objects\n",
    "\n",
    "Symbols can represent superpositions of generic python objects."
   ]
  },
  {
   "cell_type": "code",
   "execution_count": 6,
   "metadata": {
    "collapsed": true
   },
   "outputs": [],
   "source": [
    "class Fruit(object):\n",
    "    pass\n",
    "\n",
    "class Apple(Fruit):\n",
    "    def __init__(self):\n",
    "        self.name = 'apple'\n",
    "        self.color = Symbol(['green', 'red'])\n",
    "        \n",
    "class Pear(Fruit):\n",
    "    def __init__(self):\n",
    "        self.name = 'pear'\n",
    "        self.color = Symbol(['green', 'yellow'])"
   ]
  },
  {
   "cell_type": "code",
   "execution_count": 21,
   "metadata": {
    "collapsed": false
   },
   "outputs": [],
   "source": [
    "# define a superposed instance of Fruit\n",
    "fruit = Symbol(Fruit)"
   ]
  },
  {
   "cell_type": "code",
   "execution_count": 22,
   "metadata": {
    "collapsed": false
   },
   "outputs": [
    {
     "name": "stdout",
     "output_type": "stream",
     "text": [
      "[<__main__.Apple object at 0x1035fdb00>, <__main__.Pear object at 0x1035fdc18>]\n",
      "['apple', 'pear']\n",
      "['green', 'red', 'green', 'yellow']\n"
     ]
    }
   ],
   "source": [
    "# check the possible attributes of the fruit\n",
    "print(fruit)\n",
    "print(fruit.name)\n",
    "print(fruit.color)"
   ]
  },
  {
   "cell_type": "markdown",
   "metadata": {},
   "source": [
    "`fruit` is in a superposition of Apple and Pear, and this is reflected in the superposed values of its attributes `name` and `color`."
   ]
  },
  {
   "cell_type": "markdown",
   "metadata": {},
   "source": [
    "## Top-down collapsing"
   ]
  },
  {
   "cell_type": "code",
   "execution_count": 23,
   "metadata": {
    "collapsed": false
   },
   "outputs": [
    {
     "data": {
      "text/plain": [
       "<__main__.Pear object at 0x1035fdc18>"
      ]
     },
     "execution_count": 23,
     "metadata": {},
     "output_type": "execute_result"
    }
   ],
   "source": [
    "# collapse the fruit\n",
    "fruit.Observe()"
   ]
  },
  {
   "cell_type": "code",
   "execution_count": 24,
   "metadata": {
    "collapsed": false
   },
   "outputs": [
    {
     "name": "stdout",
     "output_type": "stream",
     "text": [
      "<__main__.Pear object at 0x1035fdc18>\n",
      "pear\n",
      "['green', 'yellow']\n"
     ]
    }
   ],
   "source": [
    "# inspect its new values\n",
    "print(fruit)\n",
    "print(fruit.name)\n",
    "print(fruit.color)"
   ]
  },
  {
   "cell_type": "markdown",
   "metadata": {},
   "source": [
    "After collapsing `fruit` to an instance of `Pear`, we know its name must be `'pear'`, but its color is still undefined, being either green or yellow.\n",
    "\n",
    "Critically, when any attribute of the object is observed and takes on a concrete value, all of its superposed attributes will change if necessary, to remain consistent with the new concrete value."
   ]
  },
  {
   "cell_type": "markdown",
   "metadata": {},
   "source": [
    "## Bottom-up collapsing\n",
    "\n",
    "Critically, when any attribute of the object is observed and takes on a concrete value, all of its superposed attributes will change as necessary to maintain consistency with the observation."
   ]
  },
  {
   "cell_type": "code",
   "execution_count": 26,
   "metadata": {
    "collapsed": false
   },
   "outputs": [
    {
     "data": {
      "text/plain": [
       "apple"
      ]
     },
     "execution_count": 26,
     "metadata": {},
     "output_type": "execute_result"
    }
   ],
   "source": [
    "# create a new superposed instance of Fruit\n",
    "fruit = Symbol(Fruit)\n",
    "\n",
    "# observe the fruit's name\n",
    "fruit.name.Observe()"
   ]
  },
  {
   "cell_type": "markdown",
   "metadata": {},
   "source": [
    "after observing `fruit.name`, it collapsed to `'apple'`.\n",
    "\n",
    "Once we have observed `fruit.name` to be `'apple'`, `fruit` must adjust all of its possible values to be consistent with this. \n",
    "\n",
    "`fruit` had two possible values, an `Apple` object and a `Pear` object. If we keep the `Pear` object as a possibility, then it would be possible for `fruit` to collapse to a `Pear`, although we already know its name must be `'apple'`. \n",
    "\n",
    "This is inconsistent with the definition of the `Pear` object, so once `fruit.name` collapses to `'apple'`, `Pear` is removed as a possiblity in order to preserve internal consistency."
   ]
  },
  {
   "cell_type": "code",
   "execution_count": 27,
   "metadata": {
    "collapsed": false
   },
   "outputs": [
    {
     "name": "stdout",
     "output_type": "stream",
     "text": [
      "<__main__.Apple object at 0x1036e3198>\n",
      "apple\n",
      "['green', 'red']\n"
     ]
    }
   ],
   "source": [
    "# check all of the attribute values now\n",
    "print(fruit)\n",
    "print(fruit.name)\n",
    "print(fruit.color)"
   ]
  },
  {
   "cell_type": "markdown",
   "metadata": {},
   "source": [
    "Knowing that `fruit` is an `Apple` object still does not tell us everything about its color, because an `Apple` may be still be either green or red."
   ]
  },
  {
   "cell_type": "markdown",
   "metadata": {},
   "source": [
    "## The consistency requirement\n",
    "\n",
    "**The future state of a symbolic object will always be consistent with past observations.**"
   ]
  },
  {
   "cell_type": "code",
   "execution_count": null,
   "metadata": {
    "collapsed": true
   },
   "outputs": [],
   "source": []
  }
 ],
 "metadata": {
  "anaconda-cloud": {},
  "kernelspec": {
   "display_name": "Python [conda env:py3]",
   "language": "python",
   "name": "conda-env-py3-py"
  },
  "language_info": {
   "codemirror_mode": {
    "name": "ipython",
    "version": 3
   },
   "file_extension": ".py",
   "mimetype": "text/x-python",
   "name": "python",
   "nbconvert_exporter": "python",
   "pygments_lexer": "ipython3",
   "version": "3.6.2"
  }
 },
 "nbformat": 4,
 "nbformat_minor": 1
}
